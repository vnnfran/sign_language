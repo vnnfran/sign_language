{
 "cells": [
  {
   "cell_type": "code",
   "execution_count": 11,
   "metadata": {},
   "outputs": [],
   "source": [
    "import numpy as np\n",
    "import glob\n",
    "from PIL import Image, ImageEnhance"
   ]
  },
  {
   "cell_type": "code",
   "execution_count": 12,
   "metadata": {},
   "outputs": [
    {
     "name": "stdout",
     "output_type": "stream",
     "text": [
      "2250\n"
     ]
    }
   ],
   "source": [
    "# hello: 0, iloveyou: 1, no: 2, sorry: 3, yes: 4\n",
    "folders = [\"hello\", \"iloveyou\", \"no\", \"sorry\", \"yes\"]\n",
    "folder_path = \"C:\\\\Users\\\\visha\\\\OneDrive\\\\Documentos\\\\Code\\\\endor\\\\sign_language\\\\Images\\\\images3\\\\\"\n",
    "file_names = []\n",
    "\n",
    "# Create a list with all of the images\n",
    "for folder in folders:\n",
    "    for f in glob.glob(folder_path + folder + '/**/*', recursive=True):\n",
    "        if f[-4:] == '.jpg':\n",
    "            file_names.append(f)\n",
    "            \n",
    "print(len(file_names))"
   ]
  },
  {
   "cell_type": "code",
   "execution_count": 13,
   "metadata": {},
   "outputs": [],
   "source": [
    "for i, file in enumerate(file_names):\n",
    "    img = Image.open(file)\n",
    "    enhancer = ImageEnhance.Brightness(img)\n",
    "    # to reduce brightness by 50%, use factor 0.5\n",
    "    img = enhancer.enhance(0.5)\n",
    "    img.save(f\"{file}_darker.jpg\")"
   ]
  },
  {
   "cell_type": "code",
   "execution_count": 14,
   "metadata": {},
   "outputs": [],
   "source": [
    "for i, file in enumerate(file_names):\n",
    "    img = Image.open(file)\n",
    "    enhancer = ImageEnhance.Brightness(img)\n",
    "    # to increase brightness by 50%, use factor 1.5\n",
    "    img = enhancer.enhance(1.5)\n",
    "    img.save(f\"{file}_bright.jpg\")"
   ]
  }
 ],
 "metadata": {
  "kernelspec": {
   "display_name": ".venv",
   "language": "python",
   "name": "python3"
  },
  "language_info": {
   "codemirror_mode": {
    "name": "ipython",
    "version": 3
   },
   "file_extension": ".py",
   "mimetype": "text/x-python",
   "name": "python",
   "nbconvert_exporter": "python",
   "pygments_lexer": "ipython3",
   "version": "3.9.7"
  }
 },
 "nbformat": 4,
 "nbformat_minor": 2
}
